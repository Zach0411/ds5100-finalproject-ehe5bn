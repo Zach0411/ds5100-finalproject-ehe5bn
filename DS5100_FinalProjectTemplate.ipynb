{
 "cells": [
  {
   "cell_type": "markdown",
   "id": "b8471640-36c1-4f22-81b7-82390bb92ddf",
   "metadata": {
    "tags": []
   },
   "source": [
    "# Final Project Report\n",
    "\n",
    "* Class: DS 5100\n",
    "* Student Name: Zach Stautzenbach\n",
    "* Student Net ID: ehe5bn\n",
    "* This URL: \n",
    "\n",
    "# Instructions\n",
    "\n",
    "Follow the instructions in the Final Project isntructions notebook and put evidence of your work in this notebook.\n",
    "\n",
    "Total points for each subsection under **Deliverables** and **Scenarios** are given in parentheses.\n",
    "\n",
    "Breakdowns of points within subsections are specified within subsection instructions as bulleted lists.\n",
    "\n",
    "This project is worth **50 points**.\n",
    "\n",
    "# Deliverables"
   ]
  },
  {
   "cell_type": "markdown",
   "id": "c41746f1-eec1-462e-a12b-34a054a8f136",
   "metadata": {},
   "source": [
    "## The Monte Carlo Module (10)\n",
    "\n",
    "- URL included, appropriately named (1).\n",
    "- Includes all three specified classes (3).\n",
    "- Includes at least all 12 specified methods (6; .5 each)."
   ]
  },
  {
   "cell_type": "markdown",
   "id": "d580781a-4a0d-45f2-9b40-cad41cb168e6",
   "metadata": {},
   "source": [
    "Put the URL to your GitHub repo here.\n",
    "\n",
    "Repo URL: https://github.com/Zach0411/ds5100-finalproject-ehe5bn/tree/main"
   ]
  },
  {
   "cell_type": "markdown",
   "id": "71e01717-80b0-4158-8ab1-6520b4fa6d94",
   "metadata": {},
   "source": [
    "Paste a copy of your module here.\n",
    "\n",
    "NOTE: Paste as text, not as code. Use triple backticks to wrap your code blocks."
   ]
  },
  {
   "cell_type": "markdown",
   "id": "fc2d127c-be74-4338-810c-278301914faf",
   "metadata": {
    "tags": []
   },
   "source": [
    "```python \n",
    "\n",
    "import pandas as pd\n",
    "import numpy as np\n",
    "\n",
    "class Die():\n",
    "    '''Purpose: The purpose of the Die class is to create a \"die\" object with N number of sides and W weights.\n",
    "    Weights can be changed but default to 1 for each face and are a positive number (a float or an integer). Each side contains a unique symbol. This die object is created to be rolled one or more times.'''\n",
    "    \n",
    "    def __init__(self, array):\n",
    "        '''To initialize Die class, input required is a numpy array of strings or numbers. Values in array must be distinct. This will save die attributes in a dataframe with weights defaulting to 1.'''\n",
    "        #make sure input was an array\n",
    "        if not isinstance(array, np.ndarray):\n",
    "            raise TypeError(\"Input must be a numpy array.\")\n",
    "            \n",
    "        #make sure values are distinct\n",
    "        if len(array) != len(set(array)):\n",
    "            raise ValueError(\"Values in the array must be distinct.\")\n",
    "            \n",
    "        #initialize faces\n",
    "        self.faces = array\n",
    "        \n",
    "        #weights of one for each face\n",
    "        self.weights = np.ones(len(array))\n",
    "        \n",
    "        #save to a dataframe\n",
    "        self.df_die = pd.DataFrame(array, index = self.weights)\n",
    "        \n",
    "    def change_weight(self, face, new_weight):\n",
    "        '''Purpose: change weight of any face of the die object\n",
    "        \n",
    "        Parameters: change_weight(face, new_weight)\n",
    "        face: input existing face to change weight of\n",
    "        new_weight: adjust weight of face by inputing integer or float\n",
    "        '''\n",
    "        if face not in self.faces:\n",
    "            raise IndexError(\"Face value does not exist\")\n",
    "        if type(new_weight) != int and type(new_weight) != float:\n",
    "            raise TypeError(\"New Weight must be numeric\")\n",
    "        else:\n",
    "            self.weights[np.where(self.faces == face)] = new_weight #changes weight based on index\n",
    "    \n",
    "    def roll_die(self, num_rolls = 1):\n",
    "        '''Purpose: To roll created die object N number of times\n",
    "        \n",
    "        Parameters: roll_die(num_rolls=1) **defaults to one\n",
    "        num_rolls (optional): can specify number of rolls for the die to make\n",
    "        \n",
    "        Returns: a list of results of the outcome(s)\n",
    "        '''\n",
    "        self.num_rolls = num_rolls\n",
    "        results = []\n",
    "        #set probabilities based on weights\n",
    "        self.my_probs = [i/sum(self.weights) for i in self.weights]\n",
    "        #Roll die based on number of rolls and weights\n",
    "        for i in range(self.num_rolls):\n",
    "            result = self.df_die.sample(weights=self.weights).values[0]\n",
    "            results_list = list(result)\n",
    "            results.extend(results_list)\n",
    "        return results\n",
    "    \n",
    "    def current_state(self):\n",
    "        '''Purpose: return an updated dataframe of the faces of the die object and the corresponding weights\n",
    "        \n",
    "        Parameters: current_state()\n",
    "        No parameters, however, requires existing die object to have been created\n",
    "        \n",
    "        Returns: a dataframe of the updated die object\n",
    "        '''\n",
    "        return self.df_die.copy()\n",
    "        \n",
    "class Game():\n",
    "    '''Purpose: Roll one or more similar dice (die objects) of same number of sides and associated faces.\n",
    "    \n",
    "    Parameters: Game(list of dice)\n",
    "    Requires a list of die objects to be rolled'''\n",
    "    \n",
    "    def __init__(self, dice_list):\n",
    "        '''Purpose: inializes die objects to be rolled\n",
    "        \n",
    "        Parameters: Game(dice_list)\n",
    "        dice_list represents a list of previously created die objects from the Die Class.'''\n",
    "    \n",
    "        self.dice_list = dice_list #must be a list of similar dice\n",
    "\n",
    "    def play_game(self, num_rolls):\n",
    "        '''Purpose: Specify number of times the dice should be rolled\n",
    "        \n",
    "        Parameters: play_game(num_rolls):\n",
    "        num_rolls: Requires a positive integer input\n",
    "        \n",
    "        Saves die to a private dataframe, use show_result() to return results.'''\n",
    "        if type(num_rolls) != int:\n",
    "            raise ValueError('Must be an integer for number of rolls')\n",
    "        else:\n",
    "            self.rolls = num_rolls\n",
    "        self.rolls_outcome = [die.roll_die(num_rolls) for die in self.dice_list]\n",
    "        self.df_game = pd.DataFrame(self.rolls_outcome).T\n",
    "        self.df_game.index.name = 'n'\n",
    "        self.df_game.index += 1\n",
    "\n",
    "    def show_results(self, choice='wide'):\n",
    "        '''Purpose: Show results of rolled dice in a dataframe\n",
    "        \n",
    "        Parameters: show_result(choice='wide'), default to wide\n",
    "        Option: choose 'narrow' to recieve dataframe in narrow form\n",
    "        \n",
    "        Returns: specified dataframe of results of game played (dice rolled)\n",
    "        '''\n",
    "        copy = self.df_game.copy()\n",
    "        if choice == 'wide':\n",
    "            return copy\n",
    "        elif choice == 'narrow':\n",
    "            narrow = copy.stack()\n",
    "            narrow2 = copy.stack().to_frame()         \n",
    "            return  narrow2 #change to narrow\n",
    "        else:\n",
    "            raise ValueError(\"Must choose between 'wide' or 'narrow'\")\n",
    "\n",
    "            \n",
    "class Analyzer():\n",
    "    '''Purpose: This class contains multiple function to compute descriptive statistics of games played.\n",
    "    \n",
    "    Requirement: Requires game object to be initiated.\n",
    "    '''\n",
    "    def __init__(self, play): #initializes game to analyze\n",
    "        '''Purpose: initialize Analyzer class with Game object\n",
    "        \n",
    "        Parameters: Analyzer(play)\n",
    "        play: a Game object created\n",
    "        '''\n",
    "        if not isinstance(play, Game):\n",
    "            raise ValueError(\"Input must be a Game object\")\n",
    "        else:\n",
    "            self.play = play\n",
    "\n",
    "    def jackpot(self):\n",
    "        '''Purpose: Computes how many times Game resulted in jackpot (all of the same faces rolled)\n",
    "        \n",
    "        Parameters: None\n",
    "        \n",
    "        Returns: Integer number of jackkpots\n",
    "        '''\n",
    "        counter = 0\n",
    "        y = self.play.show_results().T\n",
    "        for i in y:\n",
    "            if y[i].nunique() == 1:\n",
    "                counter += 1\n",
    "        y = print('Jackpots:', int(counter))\n",
    "        return y\n",
    "\n",
    "    def face_counts(self):\n",
    "        '''Purpose: Computes how many times a face was rolled in each event.\n",
    "        \n",
    "        Parameters: None\n",
    "        \n",
    "        Returns: A wide dataframe of results with index as roll number, \n",
    "        face values as column headers, count of face values in the cells.\n",
    "        '''\n",
    "        face_values = self.play.dice_list[0].faces.tolist()\n",
    "        roll_counts = []\n",
    "        for roll in self.play.show_results().values:\n",
    "            roll_count = {face: roll.tolist().count(face) for face in face_values}\n",
    "            roll_counts.append(roll_count)\n",
    "        \n",
    "        df_counts = pd.DataFrame(roll_counts)\n",
    "        df_counts.index.name = 'Roll'\n",
    "        df_counts.index += 1\n",
    "        return df_counts\n",
    "\n",
    "    def combos(self):\n",
    "        '''Purpose: Compute distinct combinations of faces rolled along with the counts, order independdent.\n",
    "        \n",
    "        Parameters: None\n",
    "        \n",
    "        Returns: Dataframe in wide format of with multiindex of distinct combinations and a column of\n",
    "        associated counts.\n",
    "        '''\n",
    "        z = self.play.show_results().copy() #brings dataframe of results\n",
    "        t = pd.DataFrame(np.sort(z.values, axis=1), columns=z.columns).value_counts().reset_index(name='counts')\n",
    "        t_newindex = t.set_index([c for c in t.columns if c != 'counts'])\n",
    "        return t_newindex\n",
    "    \n",
    "    def permutation(self):\n",
    "        '''Purpose: Computes the distinct permutations of faces rolled, along with their counts, order\n",
    "        dependent.\n",
    "        \n",
    "        Parameters: None\n",
    "        \n",
    "        Returns: Dataframe in wide format of with multiindex of distinct permutations and a column of\n",
    "        associated counts.\n",
    "        '''\n",
    "        c = self.play.show_results().copy()\n",
    "        c_perms = c.value_counts().to_frame()\n",
    "        return c_perms\n",
    "```"
   ]
  },
  {
   "cell_type": "markdown",
   "id": "e7d90852-6081-4e59-a46c-465ec57e5842",
   "metadata": {},
   "source": [
    "## Unitest Module (2)\n",
    "\n",
    "Paste a copy of your test module below.\n",
    "\n",
    "NOTE: Paste as text, not as code. Use triple backticks to wrap your code blocks.\n",
    "\n",
    "- All methods have at least one test method (1).\n",
    "- Each method employs one of Unittest's Assert methods (1)."
   ]
  },
  {
   "cell_type": "markdown",
   "id": "6b5e16e4-d8a2-43e0-ba59-dd5b8954ea23",
   "metadata": {},
   "source": [
    "```python\n",
    "import unittest\n",
    "import pandas as pd\n",
    "import numpy as np\n",
    "from montecarlo.montecarlo import Die, Game, Analyzer\n",
    "\n",
    "class montecarloTest(unittest.TestCase):\n",
    "    \n",
    "    def test_dataframe(self):\n",
    "        a = np.array([1,2,3])\n",
    "        object1 = Die(a)\n",
    "        self.assertIsInstance(object1.df_die, pd.DataFrame)\n",
    "        \n",
    "    def test_weight(self):\n",
    "        a = np.array([1,2,3])\n",
    "        object1 = Die(a)\n",
    "        object1.change_weight(1,90)\n",
    "        x = object1.current_state()\n",
    "        z = x.reset_index()\n",
    "        c = z.values[0,0]\n",
    "        self.assertEqual(90, c)\n",
    "        \n",
    "    def test_roll_die(self):\n",
    "        a = np.array([1,2,3])\n",
    "        object1 = Die(a)\n",
    "        x = len(object1.roll_die(2))\n",
    "        y = 2\n",
    "        self.assertEqual(x,y)\n",
    "        \n",
    "    def test_current_state(self):\n",
    "        a = np.array([1,2,3])\n",
    "        object1 = Die(a)\n",
    "        object1.change_weight(1,90)\n",
    "        x = object1.current_state()\n",
    "        df3 = pd.DataFrame(\n",
    "            columns=[0], \n",
    "            index=[90,1.0,1.0], \n",
    "            data=[[1],[2],[3]])\n",
    "        self.assertTrue(x.equals(df3))\n",
    "        \n",
    "    def test_game_in(self):\n",
    "        a = np.array([1,2,3,4,5,6])\n",
    "        b = np.array([1,2,3,4,5,6])\n",
    "        object4 = Die(a)\n",
    "        object5 = Die(b)\n",
    "        dice_list = [object4, object5]\n",
    "        game1 = Game(dice_list)\n",
    "        self.assertEqual(type(game1.dice_list), list)\n",
    "        \n",
    "    def test_playinggame(self):\n",
    "        a = np.array([1,2,3,4,5,6])\n",
    "        b = np.array([1,2,3,4,5,6])\n",
    "        object4 = Die(a)\n",
    "        object5 = Die(b)\n",
    "        dice_list = [object4, object5]\n",
    "        game1 = dice_list\n",
    "        game1 = Game(dice_list)\n",
    "        game1.play_game(3)\n",
    "        game1.show_results()\n",
    "        x = len(game1.show_results())\n",
    "        self.assertTrue(x == 3)\n",
    "        \n",
    "        \n",
    "    def test_showresults(self):\n",
    "        a = np.array([1,2,3,4,5,6])\n",
    "        b = np.array([1,2,3,4,5,6])\n",
    "        object4 = Die(a)\n",
    "        object5 = Die(b)\n",
    "        dice_list = [object4, object5]\n",
    "        game2 = Game(dice_list)\n",
    "        game2.play_game(3)\n",
    "        x = game2.show_results()\n",
    "        row_count = len(x)\n",
    "        y = 3\n",
    "        self.assertEqual(row_count, y)\n",
    "        \n",
    "    def test_init_analyzer(self):\n",
    "        a = np.array([1,2,3])\n",
    "        Die1 = Die(a)\n",
    "        dice_list = [Die1,Die1]\n",
    "        Jgame = Game(dice_list)\n",
    "        Jgame.play_game(3)\n",
    "        Janalyzer = Analyzer(Jgame)\n",
    "        self.assertIsInstance(Jgame, Game)\n",
    "        \n",
    "    \n",
    "    def test_jackpot(self):\n",
    "        a = np.array([1,2,3])\n",
    "        Die1 = Die(a)\n",
    "        Die1.change_weight(1,90)\n",
    "        Die1.change_weight(2,0)\n",
    "        Die1.change_weight(3,0)\n",
    "        dice_list = [Die1,Die1]\n",
    "        Jgame = Game(dice_list)\n",
    "        Jgame.play_game(3)\n",
    "        Janalyzer = Analyzer(Jgame)\n",
    "        Janalyzer.jackpot()\n",
    "        b = print('Jackpots:', int(3))\n",
    "        self.assertEqual(b, Janalyzer.jackpot())\n",
    "        \n",
    "    def test_face_counts(self):\n",
    "        a = np.array([1,2,3])\n",
    "        Die1 = Die(a)\n",
    "        Die1.change_weight(1,90)\n",
    "        Die1.change_weight(2,0)\n",
    "        Die1.change_weight(3,0)\n",
    "        dice_list = [Die1,Die1]\n",
    "        Jgame = Game(dice_list)\n",
    "        Jgame.play_game(3)\n",
    "        Janalyzer = Analyzer(Jgame)\n",
    "        Janalyzer.face_counts()\n",
    "        y = 3\n",
    "        self.assertEqual(y, len(Janalyzer.face_counts()))\n",
    "        \n",
    "    def test_combos(self):\n",
    "        a = np.array([1,2])\n",
    "        Die1 = Die(a)\n",
    "        Die2 = Die(a)\n",
    "        dice_list = [Die1,Die2]\n",
    "        Jgame = Game(dice_list)\n",
    "        Jgame.play_game(40)\n",
    "        Janalyzer = Analyzer(Jgame)\n",
    "        x2 = Janalyzer.combos().copy()\n",
    "        y = 3\n",
    "        self.assertTrue(len(x2) <= y)\n",
    "        \n",
    "        \n",
    "    def test_permutations(self):\n",
    "        a = np.array([1,2])\n",
    "        Die1 = Die(a)\n",
    "        Die2 = Die(a)\n",
    "        dice_list = [Die1,Die2]\n",
    "        Jgame = Game(dice_list)\n",
    "        Jgame.play_game(40)\n",
    "        Janalyzer = Analyzer(Jgame)\n",
    "        x2 = Janalyzer.permutation().copy()\n",
    "        y = 4\n",
    "        self.assertTrue(len(x2) <= y)\n",
    "        \n",
    "if __name__ == '__main__':\n",
    "    \n",
    "    unittest.main(verbosity=3)\n",
    "```"
   ]
  },
  {
   "cell_type": "markdown",
   "id": "b22310fc-8ff3-488d-a725-734ab8dfee62",
   "metadata": {},
   "source": [
    "## Unittest Results (3)\n",
    "\n",
    "Put a copy of the results of running your tests from the command line here.\n",
    "\n",
    "Again, paste as text using triple backticks.\n",
    "\n",
    "- All 12 specified methods return OK (3; .25 each)."
   ]
  },
  {
   "cell_type": "markdown",
   "id": "54fb65c5-15a6-4780-8fbe-5927cb9b00f2",
   "metadata": {
    "tags": []
   },
   "source": [
    "\n",
    "```bash\n",
    "Your montecarlo package has been imported!\n",
    "test_combos (__main__.montecarloTest.test_combos) ... ok\n",
    "test_current_state (__main__.montecarloTest.test_current_state) ... ok\n",
    "test_dataframe (__main__.montecarloTest.test_dataframe) ... ok\n",
    "test_face_counts (__main__.montecarloTest.test_face_counts) ... ok\n",
    "test_game_in (__main__.montecarloTest.test_game_in) ... ok\n",
    "test_init_analyzer (__main__.montecarloTest.test_init_analyzer) ... ok\n",
    "test_jackpot (__main__.montecarloTest.test_jackpot) ... Jackpots: 3\n",
    "Jackpots: 3\n",
    "Jackpots: 3\n",
    "ok\n",
    "test_permutations (__main__.montecarloTest.test_permutations) ... ok\n",
    "test_playinggame (__main__.montecarloTest.test_playinggame) ... ok\n",
    "test_roll_die (__main__.montecarloTest.test_roll_die) ... ok\n",
    "test_showresults (__main__.montecarloTest.test_showresults) ... ok\n",
    "test_weight (__main__.montecarloTest.test_weight) ... ok\n",
    "\n",
    "----------------------------------------------------------------------\n",
    "Ran 12 tests in 0.074s\n",
    "\n",
    "OK\n",
    "```"
   ]
  },
  {
   "cell_type": "markdown",
   "id": "4ae1b72e-d646-4e08-8420-3ad0338dc941",
   "metadata": {},
   "source": [
    "## Import (1)\n",
    "\n",
    "Import your module here. This import should refer to the code in your package directory.\n",
    "\n",
    "- Module successuflly imported (1)."
   ]
  },
  {
   "cell_type": "code",
   "execution_count": 34,
   "id": "1aeb55f9-d3a4-4244-97fe-ed0ef3806970",
   "metadata": {
    "tags": []
   },
   "outputs": [],
   "source": [
    "# e.g. import montecarlo.montecarlo \n",
    "from montecarlo.montecarlo import Die, Game, Analyzer"
   ]
  },
  {
   "cell_type": "markdown",
   "id": "88f7f232-8fa2-4904-baaa-1c8f19cd4b6e",
   "metadata": {},
   "source": [
    "## Help Docs (4)\n",
    "\n",
    "Show your docstring documentation by applying `help()` to your imported module.\n",
    "\n",
    "- All methods have a docstring (3; .25 each).\n",
    "- All classes have a docstring (1; .33 each)."
   ]
  },
  {
   "cell_type": "code",
   "execution_count": 43,
   "id": "d1a03a79-3ea0-41ad-94eb-4f9406ae51a5",
   "metadata": {
    "tags": []
   },
   "outputs": [
    {
     "name": "stdout",
     "output_type": "stream",
     "text": [
      "Help on module montecarlo.montecarlo in montecarlo:\n",
      "\n",
      "NAME\n",
      "    montecarlo.montecarlo - # Montecarlo Project\n",
      "\n",
      "CLASSES\n",
      "    builtins.object\n",
      "        Analyzer\n",
      "        Die\n",
      "        Game\n",
      "    \n",
      "    class Analyzer(builtins.object)\n",
      "     |  Analyzer(play)\n",
      "     |  \n",
      "     |  Purpose: This class contains multiple function to compute descriptive statistics of games played.\n",
      "     |  \n",
      "     |  Requirement: Requires game object to be initiated.\n",
      "     |  \n",
      "     |  Methods defined here:\n",
      "     |  \n",
      "     |  __init__(self, play)\n",
      "     |      Purpose: initialize Analyzer class with Game object\n",
      "     |      \n",
      "     |      Parameters: Analyzer(play)\n",
      "     |      play: a Game object created\n",
      "     |  \n",
      "     |  combos(self)\n",
      "     |      Purpose: Compute distinct combinations of faces rolled along with the counts, order independdent.\n",
      "     |      \n",
      "     |      Parameters: None\n",
      "     |      \n",
      "     |      Returns: Dataframe in wide format of with multiindex of distinct combinations and a column of\n",
      "     |      associated counts.\n",
      "     |  \n",
      "     |  face_counts(self)\n",
      "     |      Purpose: Computes how many times a face was rolled in each event.\n",
      "     |      \n",
      "     |      Parameters: None\n",
      "     |      \n",
      "     |      Returns: A wide dataframe of results with index as roll number, \n",
      "     |      face values as column headers, count of face values in the cells.\n",
      "     |  \n",
      "     |  jackpot(self)\n",
      "     |      Purpose: Computes how many times Game resulted in jackpot (all of the same faces rolled)\n",
      "     |      \n",
      "     |      Parameters: None\n",
      "     |      \n",
      "     |      Returns: Integer number of jackkpots\n",
      "     |  \n",
      "     |  permutation(self)\n",
      "     |      Purpose: Computes the distinct permutations of faces rolled, along with their counts, order\n",
      "     |      dependent.\n",
      "     |      \n",
      "     |      Parameters: None\n",
      "     |      \n",
      "     |      Returns: Dataframe in wide format of with multiindex of distinct permutations and a column of\n",
      "     |      associated counts.\n",
      "     |  \n",
      "     |  ----------------------------------------------------------------------\n",
      "     |  Data descriptors defined here:\n",
      "     |  \n",
      "     |  __dict__\n",
      "     |      dictionary for instance variables (if defined)\n",
      "     |  \n",
      "     |  __weakref__\n",
      "     |      list of weak references to the object (if defined)\n",
      "    \n",
      "    class Die(builtins.object)\n",
      "     |  Die(array)\n",
      "     |  \n",
      "     |  Purpose: The purpose of the Die class is to create a \"die\" object with N number of sides and W weights.\n",
      "     |  Weights can be changed but default to 1 for each face and are a positive number (a float or an integer). Each side contains a unique symbol. This die object is created to be rolled one or more times.\n",
      "     |  \n",
      "     |  Methods defined here:\n",
      "     |  \n",
      "     |  __init__(self, array)\n",
      "     |      To initialize Die class, input required is a numpy array of strings or numbers. Values in array must be distinct. This will save die attributes in a dataframe with weights defaulting to 1.\n",
      "     |  \n",
      "     |  change_weight(self, face, new_weight)\n",
      "     |      Purpose: change weight of any face of the die object\n",
      "     |      \n",
      "     |      Parameters: change_weight(face, new_weight)\n",
      "     |      face: input existing face to change weight of\n",
      "     |      new_weight: adjust weight of face by inputing integer or float\n",
      "     |  \n",
      "     |  current_state(self)\n",
      "     |      Purpose: return an updated dataframe of the faces of the die object and the corresponding weights\n",
      "     |      \n",
      "     |      Parameters: current_state()\n",
      "     |      No parameters, however, requires existing die object to have been created\n",
      "     |      \n",
      "     |      Returns: a dataframe of the updated die object\n",
      "     |  \n",
      "     |  roll_die(self, num_rolls=1)\n",
      "     |      Purpose: To roll created die object N number of times\n",
      "     |      \n",
      "     |      Parameters: roll_die(num_rolls=1) **defaults to one\n",
      "     |      num_rolls (optional): can specify number of rolls for the die to make\n",
      "     |      \n",
      "     |      Returns: a list of results of the outcome(s)\n",
      "     |  \n",
      "     |  ----------------------------------------------------------------------\n",
      "     |  Data descriptors defined here:\n",
      "     |  \n",
      "     |  __dict__\n",
      "     |      dictionary for instance variables (if defined)\n",
      "     |  \n",
      "     |  __weakref__\n",
      "     |      list of weak references to the object (if defined)\n",
      "    \n",
      "    class Game(builtins.object)\n",
      "     |  Game(dice_list)\n",
      "     |  \n",
      "     |  Purpose: Roll one or more similar dice (die objects) of same number of sides and associated faces.\n",
      "     |  \n",
      "     |  Parameters: Game(list of dice)\n",
      "     |  Requires a list of die objects to be rolled\n",
      "     |  \n",
      "     |  Methods defined here:\n",
      "     |  \n",
      "     |  __init__(self, dice_list)\n",
      "     |      Purpose: inializes die objects to be rolled\n",
      "     |      \n",
      "     |      Parameters: Game(dice_list)\n",
      "     |      dice_list represents a list of previously created die objects from the Die Class.\n",
      "     |  \n",
      "     |  play_game(self, num_rolls)\n",
      "     |      Purpose: Specify number of times the dice should be rolled\n",
      "     |      \n",
      "     |      Parameters: play_game(num_rolls):\n",
      "     |      num_rolls: Requires a positive integer input\n",
      "     |      \n",
      "     |      Saves die to a private dataframe, use show_result() to return results.\n",
      "     |  \n",
      "     |  show_results(self, choice='wide')\n",
      "     |      Purpose: Show results of rolled dice in a dataframe\n",
      "     |      \n",
      "     |      Parameters: show_result(choice='wide'), default to wide\n",
      "     |      Option: choose 'narrow' to recieve dataframe in narrow form\n",
      "     |      \n",
      "     |      Returns: specified dataframe of results of game played (dice rolled)\n",
      "     |  \n",
      "     |  ----------------------------------------------------------------------\n",
      "     |  Data descriptors defined here:\n",
      "     |  \n",
      "     |  __dict__\n",
      "     |      dictionary for instance variables (if defined)\n",
      "     |  \n",
      "     |  __weakref__\n",
      "     |      list of weak references to the object (if defined)\n",
      "\n",
      "FILE\n",
      "    /sfs/qumulo/qhome/ehe5bn/Documents/MSDS/DS5100/ds5100-finalproject-ehe5bn/montecarlo/montecarlo.py\n",
      "\n",
      "\n"
     ]
    }
   ],
   "source": [
    "# help(montecarlo)\n",
    "help(montecarlo.montecarlo)"
   ]
  },
  {
   "cell_type": "markdown",
   "id": "af9911ec-202e-49c6-b003-257a70e5ac61",
   "metadata": {},
   "source": [
    "## `README.md` File (3)\n",
    "\n",
    "Provide link to the README.md file of your project's repo.\n",
    "\n",
    "- Metadata section or info present (1).\n",
    "- Synopsis section showing how each class is called (1). (All must be included.)\n",
    "- API section listing all classes and methods (1). (All must be included.)"
   ]
  },
  {
   "cell_type": "markdown",
   "id": "0d4ec3f8-641d-4403-860f-5844b79571d6",
   "metadata": {},
   "source": [
    "URL: https://github.com/Zach0411/ds5100-finalproject-ehe5bn/blob/main/README.md"
   ]
  },
  {
   "cell_type": "markdown",
   "id": "02628d96-726e-4052-87c2-5df997042fac",
   "metadata": {},
   "source": [
    "## Successful installation (2)\n",
    "\n",
    "Put a screenshot or paste a copy of a terminal session where you successfully install your module with pip.\n",
    "\n",
    "If pasting text, use a preformatted text block to show the results.\n",
    "\n",
    "- Installed with `pip` (1).\n",
    "- Successfully installed message appears (1)."
   ]
  },
  {
   "cell_type": "markdown",
   "id": "de30c76c-163a-4ab0-a6f0-f636293370f8",
   "metadata": {
    "tags": []
   },
   "source": [
    "```bash\n",
    "-bash-4.4$pip install -e .\n",
    "Defaulting to user installation because normal site-packages is not writeable\n",
    "Obtaining file:///sfs/qumulo/qhome/ehe5bn/Documents/MSDS/DS5100/ds5100-finalproject-ehe5bn\n",
    "  Preparing metadata (setup.py) ... done\n",
    "Installing collected packages: montecarlotest\n",
    "  Running setup.py develop for montecarlotest\n",
    "Successfully installed montecarlotest-1.0.0\n",
    "```"
   ]
  },
  {
   "cell_type": "markdown",
   "id": "0bf3ff91-934b-4e66-9036-430feb513c49",
   "metadata": {},
   "source": [
    "# Scenarios\n",
    "\n",
    "Use code blocks to perform the tasks for each scenario.\n",
    "\n",
    "Be sure the outputs are visible before submitting."
   ]
  },
  {
   "cell_type": "markdown",
   "id": "15ba1c97-f06b-4a79-b000-1c13493c105e",
   "metadata": {},
   "source": [
    "## Scenario 1: A 2-headed Coin (9)\n",
    "\n",
    "Task 1. Create a fair coin (with faces $H$ and $T$) and one unfair coin in which one of the faces has a weight of $5$ and the others $1$.\n",
    "\n",
    "- Fair coin created (1).\n",
    "- Unfair coin created with weight as specified (1)."
   ]
  },
  {
   "cell_type": "code",
   "execution_count": 48,
   "id": "8ffdf95f-e127-48af-a449-0cbc1c63f8fd",
   "metadata": {
    "tags": []
   },
   "outputs": [],
   "source": [
    "coin = np.array(['H','T'])\n",
    "Fair_coin = Die(coin)\n",
    "Unfair_coin = Die(coin)\n",
    "Unfair_coin.change_weight('H', 5)"
   ]
  },
  {
   "cell_type": "markdown",
   "id": "188f20cd-71c3-4761-a593-c4c97275032c",
   "metadata": {},
   "source": [
    "Task 2. Play a game of $1000$ flips with two fair dice.\n",
    "\n",
    "- Play method called correclty and without error (1)."
   ]
  },
  {
   "cell_type": "code",
   "execution_count": 80,
   "id": "cee8fc67-cb0a-4c47-a230-9e5de08fd331",
   "metadata": {
    "tags": []
   },
   "outputs": [],
   "source": [
    "fair_list = [Fair_coin, Fair_coin]\n",
    "game1 = Game(fair_list)\n",
    "game1.play_game(1000)"
   ]
  },
  {
   "cell_type": "markdown",
   "id": "133b6a8c-eea9-40ac-ac03-ecc655a38e1b",
   "metadata": {
    "tags": []
   },
   "source": [
    "Task 3. Play another game (using a new Game object) of $1000$ flips, this time using two unfair dice and one fair die. For the second unfair die, you can use the same die object twice in the list of dice you pass to the Game object.\n",
    "\n",
    "- New game object created (1).\n",
    "- Play method called correclty and without error (1)."
   ]
  },
  {
   "cell_type": "code",
   "execution_count": 83,
   "id": "2ca24ed6-2535-4add-a217-68ae65a6a6a4",
   "metadata": {
    "tags": []
   },
   "outputs": [],
   "source": [
    "dice_list2 = [Fair_coin, Unfair_coin, Unfair_coin]\n",
    "game2 = Game(dice_list2)\n",
    "game2.play_game(1000)"
   ]
  },
  {
   "cell_type": "markdown",
   "id": "baf45008-2cb5-43a5-9a20-c6ca7b05dab3",
   "metadata": {
    "tags": []
   },
   "source": [
    "Task 4. For each game, use an Analyzer object to determine the raw frequency of jackpots — i.e. getting either all $H$s or all $T$s.\n",
    "\n",
    "- Analyzer objecs instantiated for both games (1).\n",
    "- Raw frequencies reported for both (1)."
   ]
  },
  {
   "cell_type": "code",
   "execution_count": 88,
   "id": "fb154c82-e51e-48e2-8cad-d066f01d78ec",
   "metadata": {
    "tags": []
   },
   "outputs": [
    {
     "name": "stdout",
     "output_type": "stream",
     "text": [
      "Jackpots: 528\n"
     ]
    }
   ],
   "source": [
    "details_game2 = Analyzer(game1)\n",
    "details_game2.jackpot()"
   ]
  },
  {
   "cell_type": "code",
   "execution_count": 98,
   "id": "0675c286-7e5e-4345-81db-575e0bd49dc6",
   "metadata": {
    "tags": []
   },
   "outputs": [
    {
     "name": "stdout",
     "output_type": "stream",
     "text": [
      "Jackpots: 370\n"
     ]
    }
   ],
   "source": [
    "details_game1 = Analyzer(game2)\n",
    "details_game1.jackpot()"
   ]
  },
  {
   "cell_type": "markdown",
   "id": "e37acf1f-b700-4048-9b69-dad930519ab9",
   "metadata": {},
   "source": [
    "Task 5. For each analyzer, compute relative frequency as the number of jackpots over the total number of rolls.\n",
    "\n",
    "- Both relative frequencies computed (1)."
   ]
  },
  {
   "cell_type": "code",
   "execution_count": 92,
   "id": "5dcc10df-4b9a-44a7-975a-3e584b9aeb68",
   "metadata": {
    "tags": []
   },
   "outputs": [],
   "source": [
    "game1_rf = 370/1000"
   ]
  },
  {
   "cell_type": "code",
   "execution_count": 90,
   "id": "46d945a7-5f59-43bd-98a2-c9d3d5c96ab5",
   "metadata": {
    "tags": []
   },
   "outputs": [],
   "source": [
    "game2_rf = 528/1000"
   ]
  },
  {
   "cell_type": "markdown",
   "id": "c55416be-578f-4824-accd-513b478e582d",
   "metadata": {},
   "source": [
    "Task 6. Show your results, comparing the two relative frequencies, in a simple bar chart.\n",
    "\n",
    "- Bar chart plotted and correct (1)."
   ]
  },
  {
   "cell_type": "code",
   "execution_count": 96,
   "id": "63223131-7645-4c6b-b623-dbe580beb5c9",
   "metadata": {
    "tags": []
   },
   "outputs": [
    {
     "data": {
      "image/png": "[encoded data removed]",
      "text/plain": [
       "<Figure size 640x480 with 1 Axes>"
      ]
     },
     "metadata": {},
     "output_type": "display_data"
    }
   ],
   "source": [
    "import matplotlib.pyplot as plt \n",
    "data = {'Two-Fair-Dice': game1_rf, 'Three-dice-two-unfair': game2_rf}\n",
    "dice = list(data.keys())\n",
    "values = list(data.values())\n",
    "plt.bar(dice, values, color ='maroon', \n",
    "        width = 0.4)\n",
    "plt.xlabel(\"Games played\")\n",
    "plt.ylabel(\"Relative Frequencies of Jackpots\")\n",
    "plt.title(\"Jackpot Frequencies in Games\")\n",
    "plt.show()"
   ]
  },
  {
   "cell_type": "markdown",
   "id": "97734c71-a360-479e-adf3-e3f8bfd794be",
   "metadata": {},
   "source": [
    "## Scenario 2: A 6-sided Die (9)\n",
    "\n",
    "Task 1. Create three dice, each with six sides having the faces 1 through 6.\n",
    "\n",
    "- Three die objects created (1)."
   ]
  },
  {
   "cell_type": "code",
   "execution_count": null,
   "id": "86c43f99-5ddd-4db3-bc13-f9248affd25a",
   "metadata": {},
   "outputs": [],
   "source": []
  },
  {
   "cell_type": "markdown",
   "id": "b871c042-1496-4d46-ae31-68a362a85092",
   "metadata": {},
   "source": [
    "Task 2. Convert one of the dice to an unfair one by weighting the face $6$ five times more than the other weights (i.e. it has weight of 5 and the others a weight of 1 each).\n",
    "\n",
    "- Unfair die created with proper call to weight change method (1)."
   ]
  },
  {
   "cell_type": "markdown",
   "id": "da52a5cc-8ab3-4ae3-8077-5f39147f39ee",
   "metadata": {},
   "source": [
    "Task 3. Convert another of the dice to be unfair by weighting the face $1$ five times more than the others.\n",
    "\n",
    "- Unfair die created with proper call to weight change method (1)."
   ]
  },
  {
   "cell_type": "code",
   "execution_count": null,
   "id": "4bfd4e7b-6fe5-47ed-80f1-bbcd16427e71",
   "metadata": {},
   "outputs": [],
   "source": []
  },
  {
   "cell_type": "markdown",
   "id": "9e48681d-59bf-47b2-b4de-d9ad9cbf3e8a",
   "metadata": {},
   "source": [
    "Task 4. Play a game of $10000$ rolls with $5$ fair dice.\n",
    "\n",
    "- Game class properly instantiated (1). \n",
    "- Play method called properly (1)."
   ]
  },
  {
   "cell_type": "code",
   "execution_count": null,
   "id": "26896ccb-553e-4098-97dc-c623a181f6fd",
   "metadata": {},
   "outputs": [],
   "source": []
  },
  {
   "cell_type": "markdown",
   "id": "96128e8c-38d8-4d2e-a44a-6d192ead2289",
   "metadata": {},
   "source": [
    "Task 5. Play another game of $10000$ rolls, this time with $2$ unfair dice, one as defined in steps #2 and #3 respectively, and $3$ fair dice.\n",
    "\n",
    "- Game class properly instantiated (1). \n",
    "- Play method called properly (1)."
   ]
  },
  {
   "cell_type": "code",
   "execution_count": null,
   "id": "bf4310a2-0b98-4a1f-a1a0-0edfc6d90afe",
   "metadata": {},
   "outputs": [],
   "source": []
  },
  {
   "cell_type": "markdown",
   "id": "c789a324-f7fb-4ddc-b5c6-1bb6642014c4",
   "metadata": {},
   "source": [
    "Task 6. For each game, use an Analyzer object to determine the relative frequency of jackpots and show your results, comparing the two relative frequencies, in a simple bar chart.\n",
    "\n",
    "- Jackpot methods called (1).\n",
    "- Graph produced (1)."
   ]
  },
  {
   "cell_type": "code",
   "execution_count": null,
   "id": "77aa5766-a237-417c-a850-72573aca9c3f",
   "metadata": {},
   "outputs": [],
   "source": []
  },
  {
   "cell_type": "markdown",
   "id": "ed27b137-afd0-4b55-b4e0-db6ec35f29c3",
   "metadata": {},
   "source": [
    "## Scenario 3: Letters of the Alphabet (7)\n",
    "\n",
    "Task 1. Create a \"die\" of letters from $A$ to $Z$ with weights based on their frequency of usage as found in the data file `english_letters.txt`. Use the frequencies (i.e. raw counts) as weights.\n",
    "\n",
    "- Die correctly instantiated with source file data (1).\n",
    "- Weights properly applied using weight setting method (1)."
   ]
  },
  {
   "cell_type": "code",
   "execution_count": null,
   "id": "c9e5ea7c-2cc6-421f-86ce-cc564bceb5ad",
   "metadata": {},
   "outputs": [],
   "source": []
  },
  {
   "cell_type": "markdown",
   "id": "4fee2e71-ec28-4e4d-a80c-961cdc13c9b0",
   "metadata": {},
   "source": [
    "Task 2. Play a game involving $4$ of these dice with $1000$ rolls.\n",
    "\n",
    "- Game play method properly called (1)."
   ]
  },
  {
   "cell_type": "code",
   "execution_count": null,
   "id": "0d37120d-f5f0-4bf6-92dd-87d12b8934a7",
   "metadata": {},
   "outputs": [],
   "source": []
  },
  {
   "cell_type": "markdown",
   "id": "0773a2a4-70e6-4352-bdf1-d81a03036ebf",
   "metadata": {},
   "source": [
    "Task 3. Determine how many permutations in your results are actual English words, based on the vocabulary found in `scrabble_words.txt`.\n",
    "\n",
    "- Use permutation method (1).\n",
    "- Get count as difference between permutations and vocabulary (1)."
   ]
  },
  {
   "cell_type": "code",
   "execution_count": null,
   "id": "a28ed378-084f-4b81-a46c-070aa1039c30",
   "metadata": {},
   "outputs": [],
   "source": []
  },
  {
   "cell_type": "markdown",
   "id": "f2cfd466-7d9b-4d43-8a5c-f10ad17f897a",
   "metadata": {},
   "source": [
    "Task 4. Repeat steps #2 and #3, this time with $5$ dice. How many actual words does this produce? Which produces more?\n",
    "\n",
    "- Successfully repreats steps (1).\n",
    "- Identifies parameter with most found words (1)."
   ]
  },
  {
   "cell_type": "code",
   "execution_count": null,
   "id": "2012a53e-658a-4d8c-a7c5-9482b30b1c28",
   "metadata": {},
   "outputs": [],
   "source": []
  }
 ],
 "metadata": {
  "kernelspec": {
   "display_name": "Python 3 (ipykernel)",
   "language": "python",
   "name": "python3"
  },
  "language_info": {
   "codemirror_mode": {
    "name": "ipython",
    "version": 3
   },
   "file_extension": ".py",
   "mimetype": "text/x-python",
   "name": "python",
   "nbconvert_exporter": "python",
   "pygments_lexer": "ipython3",
   "version": "3.11.4"
  }
 },
 "nbformat": 4,
 "nbformat_minor": 5
}

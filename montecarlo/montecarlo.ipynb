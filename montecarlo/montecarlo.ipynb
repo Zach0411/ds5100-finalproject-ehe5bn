{
 "cells": [
  {
   "cell_type": "markdown",
   "id": "ec21751a-e0d4-4594-a966-ea96744a10fe",
   "metadata": {},
   "source": [
    "# <center> Montecarlo Project <center>"
   ]
  },
  {
   "cell_type": "code",
   "execution_count": 15,
   "id": "f30d3659-6e92-4185-9200-253b0d9dc8c9",
   "metadata": {
    "tags": []
   },
   "outputs": [],
   "source": [
    "import numpy as np"
   ]
  },
  {
   "cell_type": "code",
   "execution_count": 21,
   "id": "425f869a-9855-46f3-8ef2-37e3c70c2465",
   "metadata": {
    "tags": []
   },
   "outputs": [],
   "source": [
    "arr = np.array([1,2,3,4,5,6,7,8,9,10])\n",
    "arr\n",
    "y=3"
   ]
  },
  {
   "cell_type": "code",
   "execution_count": 26,
   "id": "90749c7e-0fde-44e3-9c28-eba9b2872ee9",
   "metadata": {
    "tags": []
   },
   "outputs": [],
   "source": [
    "class Die():\n",
    "    '''docstring'''\n",
    "    \n",
    "    def __init__(self, array):\n",
    "        if isinstance(array, np.ndarray):\n",
    "        else:\n",
    "            raise TypeError(\"Must input a numpy array\")"
   ]
  },
  {
   "cell_type": "code",
   "execution_count": 24,
   "id": "25baf95c-a10a-46fa-ab73-a0c97123ae09",
   "metadata": {
    "tags": []
   },
   "outputs": [
    {
     "ename": "TypeError",
     "evalue": "Must input a numpy array",
     "output_type": "error",
     "traceback": [
      "\u001b[0;31m---------------------------------------------------------------------------\u001b[0m",
      "\u001b[0;31mTypeError\u001b[0m                                 Traceback (most recent call last)",
      "Cell \u001b[0;32mIn[24], line 1\u001b[0m\n\u001b[0;32m----> 1\u001b[0m test \u001b[38;5;241m=\u001b[39m \u001b[43mDie\u001b[49m\u001b[43m(\u001b[49m\u001b[43my\u001b[49m\u001b[43m)\u001b[49m\n",
      "Cell \u001b[0;32mIn[23], line 8\u001b[0m, in \u001b[0;36mDie.__init__\u001b[0;34m(self, x)\u001b[0m\n\u001b[1;32m      6\u001b[0m     \u001b[38;5;28mprint\u001b[39m(\u001b[38;5;124m\"\u001b[39m\u001b[38;5;124mnice\u001b[39m\u001b[38;5;124m\"\u001b[39m)\n\u001b[1;32m      7\u001b[0m \u001b[38;5;28;01melse\u001b[39;00m:\n\u001b[0;32m----> 8\u001b[0m     \u001b[38;5;28;01mraise\u001b[39;00m \u001b[38;5;167;01mTypeError\u001b[39;00m(\u001b[38;5;124m\"\u001b[39m\u001b[38;5;124mMust input a numpy array\u001b[39m\u001b[38;5;124m\"\u001b[39m)\n",
      "\u001b[0;31mTypeError\u001b[0m: Must input a numpy array"
     ]
    }
   ],
   "source": [
    "test = Die(y)"
   ]
  },
  {
   "cell_type": "code",
   "execution_count": 10,
   "id": "ac38fbec-c70e-48ec-9a2e-667ba8e71bf3",
   "metadata": {
    "tags": []
   },
   "outputs": [],
   "source": [
    "class Game():\n",
    "    '''docstring'''\n",
    "    \n",
    "    def __init__():\n",
    "        pass"
   ]
  },
  {
   "cell_type": "code",
   "execution_count": 8,
   "id": "c1559686-79ab-4ed4-8a76-eaab49543fd2",
   "metadata": {
    "tags": []
   },
   "outputs": [],
   "source": [
    "class Analyzer():\n",
    "    '''docstring'''\n",
    "    \n",
    "    def __init():\n",
    "        pass"
   ]
  }
 ],
 "metadata": {
  "kernelspec": {
   "display_name": "Python 3 (ipykernel)",
   "language": "python",
   "name": "python3"
  },
  "language_info": {
   "codemirror_mode": {
    "name": "ipython",
    "version": 3
   },
   "file_extension": ".py",
   "mimetype": "text/x-python",
   "name": "python",
   "nbconvert_exporter": "python",
   "pygments_lexer": "ipython3",
   "version": "3.11.4"
  }
 },
 "nbformat": 4,
 "nbformat_minor": 5
}

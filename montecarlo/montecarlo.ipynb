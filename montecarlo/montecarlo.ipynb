{
 "cells": [
  {
   "cell_type": "markdown",
   "id": "ec21751a-e0d4-4594-a966-ea96744a10fe",
   "metadata": {},
   "source": [
    "# <center> Montecarlo Project <center>"
   ]
  },
  {
   "cell_type": "code",
   "execution_count": 11,
   "id": "f30d3659-6e92-4185-9200-253b0d9dc8c9",
   "metadata": {
    "tags": []
   },
   "outputs": [],
   "source": [
    "import numpy as np\n",
    "import pandas as pd"
   ]
  },
  {
   "cell_type": "code",
   "execution_count": 26,
   "id": "425f869a-9855-46f3-8ef2-37e3c70c2465",
   "metadata": {
    "tags": []
   },
   "outputs": [
    {
     "data": {
      "text/plain": [
       "array([ 1,  2,  3,  4,  5,  6,  7,  8,  9, 10])"
      ]
     },
     "execution_count": 26,
     "metadata": {},
     "output_type": "execute_result"
    }
   ],
   "source": [
    "arr1 = np.array([1,2,3,4,5,6,7,8,9,10])\n",
    "arr1"
   ]
  },
  {
   "cell_type": "code",
   "execution_count": 170,
   "id": "90749c7e-0fde-44e3-9c28-eba9b2872ee9",
   "metadata": {
    "tags": []
   },
   "outputs": [],
   "source": [
    "class Die():\n",
    "    '''docstring'''\n",
    "    \n",
    "    def __init__(self, array):\n",
    "        #make sure input was an array\n",
    "        if not isinstance(array, np.ndarray):\n",
    "            raise TypeError(\"Input must be a numpy array.\")\n",
    "            \n",
    "        #make sure values are distinct\n",
    "        if len(array) != len(set(array)):\n",
    "            raise ValueError(\"Values in the array must be distinct.\")\n",
    "            \n",
    "        #initialize faces\n",
    "        self.faces = array\n",
    "        \n",
    "        #weights of one for each face\n",
    "        self.weights = np.ones(len(array))\n",
    "        \n",
    "        #save to a dataframe\n",
    "        self.df_die = pd.DataFrame(array, index = self.weights)\n",
    "        \n",
    "    def change_weight(self, face, new_weight):\n",
    "        if face not in self.faces:\n",
    "            raise IndexError(\"Face value does not exist\")\n",
    "        if type(new_weight) != int: #or type(new_weight) != float:\n",
    "            raise TypeError(\"New Weight must be numeric\")\n",
    "        else:\n",
    "            self.weights[np.where(self.faces == face)] = new_weight #changes weight based on index\n",
    "    \n",
    "    def roll_die(self, num_rolls = 1):\n",
    "        self.num_rolls = num_rolls\n",
    "        self.num_sides = len(self.faces)\n",
    "        results = []\n",
    "        #set probabilities based on weights\n",
    "        self.my_probs = [i/sum(self.weights) for i in self.weights]\n",
    "        #Roll die based on number of rolls and weights\n",
    "        for i in range(self.num_rolls):\n",
    "            result = self.df_die.sample(weights=self.weights).values[0]\n",
    "            results.append(result)\n",
    "        return results\n",
    "    \n",
    "    def current_state(self):\n",
    "        return self.df_die.copy()\n",
    "        "
   ]
  },
  {
   "cell_type": "code",
   "execution_count": 177,
   "id": "bad8458b-46d9-4013-813c-52f8cbafa04d",
   "metadata": {
    "tags": []
   },
   "outputs": [
    {
     "data": {
      "text/plain": [
       "[array([3]), array([3]), array([1])]"
      ]
     },
     "execution_count": 177,
     "metadata": {},
     "output_type": "execute_result"
    }
   ],
   "source": [
    "testing1 = Die(arr1)\n",
    "testing1.df_die\n",
    "testing1.change_weight(3, 70)\n",
    "testing1.roll_die(3)"
   ]
  },
  {
   "cell_type": "code",
   "execution_count": 178,
   "id": "781775b5-83a5-40b7-b257-efa1f9c1a045",
   "metadata": {
    "tags": []
   },
   "outputs": [
    {
     "data": {
      "text/html": [
       "<div>\n",
       "<style scoped>\n",
       "    .dataframe tbody tr th:only-of-type {\n",
       "        vertical-align: middle;\n",
       "    }\n",
       "\n",
       "    .dataframe tbody tr th {\n",
       "        vertical-align: top;\n",
       "    }\n",
       "\n",
       "    .dataframe thead th {\n",
       "        text-align: right;\n",
       "    }\n",
       "</style>\n",
       "<table border=\"1\" class=\"dataframe\">\n",
       "  <thead>\n",
       "    <tr style=\"text-align: right;\">\n",
       "      <th></th>\n",
       "      <th>0</th>\n",
       "    </tr>\n",
       "  </thead>\n",
       "  <tbody>\n",
       "    <tr>\n",
       "      <th>1.0</th>\n",
       "      <td>1</td>\n",
       "    </tr>\n",
       "    <tr>\n",
       "      <th>1.0</th>\n",
       "      <td>2</td>\n",
       "    </tr>\n",
       "    <tr>\n",
       "      <th>70.0</th>\n",
       "      <td>3</td>\n",
       "    </tr>\n",
       "    <tr>\n",
       "      <th>1.0</th>\n",
       "      <td>4</td>\n",
       "    </tr>\n",
       "    <tr>\n",
       "      <th>1.0</th>\n",
       "      <td>5</td>\n",
       "    </tr>\n",
       "    <tr>\n",
       "      <th>1.0</th>\n",
       "      <td>6</td>\n",
       "    </tr>\n",
       "    <tr>\n",
       "      <th>1.0</th>\n",
       "      <td>7</td>\n",
       "    </tr>\n",
       "    <tr>\n",
       "      <th>1.0</th>\n",
       "      <td>8</td>\n",
       "    </tr>\n",
       "    <tr>\n",
       "      <th>1.0</th>\n",
       "      <td>9</td>\n",
       "    </tr>\n",
       "    <tr>\n",
       "      <th>1.0</th>\n",
       "      <td>10</td>\n",
       "    </tr>\n",
       "  </tbody>\n",
       "</table>\n",
       "</div>"
      ],
      "text/plain": [
       "       0\n",
       "1.0    1\n",
       "1.0    2\n",
       "70.0   3\n",
       "1.0    4\n",
       "1.0    5\n",
       "1.0    6\n",
       "1.0    7\n",
       "1.0    8\n",
       "1.0    9\n",
       "1.0   10"
      ]
     },
     "execution_count": 178,
     "metadata": {},
     "output_type": "execute_result"
    }
   ],
   "source": [
    "testing1.current_state()"
   ]
  },
  {
   "cell_type": "code",
   "execution_count": 10,
   "id": "ac38fbec-c70e-48ec-9a2e-667ba8e71bf3",
   "metadata": {
    "tags": []
   },
   "outputs": [],
   "source": [
    "class Game():\n",
    "    '''docstring'''\n",
    "    \n",
    "    def __init__():\n",
    "        pass"
   ]
  },
  {
   "cell_type": "code",
   "execution_count": 8,
   "id": "c1559686-79ab-4ed4-8a76-eaab49543fd2",
   "metadata": {
    "tags": []
   },
   "outputs": [],
   "source": [
    "class Analyzer():\n",
    "    '''docstring'''\n",
    "    \n",
    "    def __init():\n",
    "        pass"
   ]
  }
 ],
 "metadata": {
  "kernelspec": {
   "display_name": "Python 3 (ipykernel)",
   "language": "python",
   "name": "python3"
  },
  "language_info": {
   "codemirror_mode": {
    "name": "ipython",
    "version": 3
   },
   "file_extension": ".py",
   "mimetype": "text/x-python",
   "name": "python",
   "nbconvert_exporter": "python",
   "pygments_lexer": "ipython3",
   "version": "3.11.4"
  }
 },
 "nbformat": 4,
 "nbformat_minor": 5
}

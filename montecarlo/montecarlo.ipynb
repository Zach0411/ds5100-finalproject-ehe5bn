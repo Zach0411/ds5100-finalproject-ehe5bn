{
 "cells": [
  {
   "cell_type": "markdown",
   "id": "ec21751a-e0d4-4594-a966-ea96744a10fe",
   "metadata": {},
   "source": [
    "# <center> Montecarlo Project <center>"
   ]
  },
  {
   "cell_type": "code",
   "execution_count": 1,
   "id": "f30d3659-6e92-4185-9200-253b0d9dc8c9",
   "metadata": {
    "tags": []
   },
   "outputs": [],
   "source": [
    "import numpy as np\n",
    "import pandas as pd"
   ]
  },
  {
   "cell_type": "code",
   "execution_count": 2,
   "id": "425f869a-9855-46f3-8ef2-37e3c70c2465",
   "metadata": {
    "tags": []
   },
   "outputs": [
    {
     "data": {
      "text/plain": [
       "array([ 1,  2,  3,  4,  5,  6,  7,  8,  9, 10])"
      ]
     },
     "execution_count": 2,
     "metadata": {},
     "output_type": "execute_result"
    }
   ],
   "source": [
    "arr1 = np.array([1,2,3,4,5,6,7,8,9,10])\n",
    "arr1"
   ]
  },
  {
   "cell_type": "code",
   "execution_count": 3,
   "id": "90749c7e-0fde-44e3-9c28-eba9b2872ee9",
   "metadata": {
    "tags": []
   },
   "outputs": [],
   "source": [
    "class Die():\n",
    "    '''docstring'''\n",
    "    \n",
    "    def __init__(self, array):\n",
    "        #make sure input was an array\n",
    "        if not isinstance(array, np.ndarray):\n",
    "            raise TypeError(\"Input must be a numpy array.\")\n",
    "            \n",
    "        #make sure values are distinct\n",
    "        if len(array) != len(set(array)):\n",
    "            raise ValueError(\"Values in the array must be distinct.\")\n",
    "            \n",
    "        #initialize faces\n",
    "        self.faces = array\n",
    "        \n",
    "        #weights of one for each face\n",
    "        self.weights = np.ones(len(array))\n",
    "        \n",
    "        #save to a dataframe\n",
    "        self.df_die = pd.DataFrame(array, index = self.weights)\n",
    "        \n",
    "    def change_weight(self, face, new_weight):\n",
    "        if face not in self.faces:\n",
    "            raise IndexError(\"Face value does not exist\")\n",
    "        if type(new_weight) != int: #or type(new_weight) != float:\n",
    "            raise TypeError(\"New Weight must be numeric\")\n",
    "        else:\n",
    "            self.weights[np.where(self.faces == face)] = new_weight #changes weight based on index\n",
    "    \n",
    "    def roll_die(self, num_rolls = 1):\n",
    "        self.num_rolls = num_rolls\n",
    "        #self.num_sides = len(self.faces)\n",
    "        results = []\n",
    "        #set probabilities based on weights\n",
    "        self.my_probs = [i/sum(self.weights) for i in self.weights]\n",
    "        #Roll die based on number of rolls and weights\n",
    "        for i in range(self.num_rolls):\n",
    "            result = self.df_die.sample(weights=self.weights).values[0]\n",
    "            results_list = list(result)\n",
    "            results.extend(results_list)\n",
    "        return results\n",
    "    \n",
    "    def current_state(self):\n",
    "        return self.df_die.copy()\n",
    "        "
   ]
  },
  {
   "cell_type": "code",
   "execution_count": 4,
   "id": "bad8458b-46d9-4013-813c-52f8cbafa04d",
   "metadata": {
    "tags": []
   },
   "outputs": [
    {
     "data": {
      "text/plain": [
       "[8, 4, 2, 10, 6, 3, 8, 10, 8, 10]"
      ]
     },
     "execution_count": 4,
     "metadata": {},
     "output_type": "execute_result"
    }
   ],
   "source": [
    "Die10 = Die(arr1)\n",
    "Die10.df_die\n",
    "Die10.roll_die(10)"
   ]
  },
  {
   "cell_type": "code",
   "execution_count": 32,
   "id": "20266105-f745-41cc-9496-6e62a83060c6",
   "metadata": {
    "tags": []
   },
   "outputs": [
    {
     "data": {
      "text/plain": [
       "[3, 15, 23, 25, 10, 10, 12, 23, 12, 25]"
      ]
     },
     "execution_count": 32,
     "metadata": {},
     "output_type": "execute_result"
    }
   ],
   "source": [
    "arr3 = np.array([17,15,12,7,3,2,10,23,25,29])\n",
    "Die11 = Die(arr3)\n",
    "Die11.roll_die(10)"
   ]
  },
  {
   "cell_type": "code",
   "execution_count": 8,
   "id": "00ae4991-bf11-4b2c-9019-c1fe2dbda294",
   "metadata": {
    "tags": []
   },
   "outputs": [
    {
     "data": {
      "text/plain": [
       "['tails', 'tails', 'tails', 'heads', 'heads']"
      ]
     },
     "execution_count": 8,
     "metadata": {},
     "output_type": "execute_result"
    }
   ],
   "source": [
    "arr2 = np.array(['heads','tails'])\n",
    "Coin = Die(arr2)\n",
    "Coin.df_die\n",
    "Coin.roll_die(5)"
   ]
  },
  {
   "cell_type": "code",
   "execution_count": 71,
   "id": "dc763aa7-3188-42fa-996a-583a8e628f1a",
   "metadata": {
    "tags": []
   },
   "outputs": [],
   "source": [
    "dicelist = [Coin, Coin]"
   ]
  },
  {
   "cell_type": "code",
   "execution_count": 78,
   "id": "ac38fbec-c70e-48ec-9a2e-667ba8e71bf3",
   "metadata": {
    "tags": []
   },
   "outputs": [],
   "source": [
    "class Game():\n",
    "    '''docstring'''\n",
    "    \n",
    "    def __init__(self, dice_list):\n",
    "        self.dice_list = dice_list #must be a list of similar dice\n",
    "\n",
    "    def play_game(self, num_rolls):\n",
    "        self.rolls = num_rolls\n",
    "        self.rolls_outcome = [die.roll_die(num_rolls) for die in self.dice_list]\n",
    "        self.df_game = pd.DataFrame(self.rolls_outcome)\n",
    "        \n",
    "    def show_results(self):\n",
    "        return self.df_game"
   ]
  },
  {
   "cell_type": "code",
   "execution_count": 80,
   "id": "72555f1b-8d4b-4e1f-a8b6-36e165d56751",
   "metadata": {
    "tags": []
   },
   "outputs": [
    {
     "data": {
      "text/html": [
       "<div>\n",
       "<style scoped>\n",
       "    .dataframe tbody tr th:only-of-type {\n",
       "        vertical-align: middle;\n",
       "    }\n",
       "\n",
       "    .dataframe tbody tr th {\n",
       "        vertical-align: top;\n",
       "    }\n",
       "\n",
       "    .dataframe thead th {\n",
       "        text-align: right;\n",
       "    }\n",
       "</style>\n",
       "<table border=\"1\" class=\"dataframe\">\n",
       "  <thead>\n",
       "    <tr style=\"text-align: right;\">\n",
       "      <th></th>\n",
       "      <th>0</th>\n",
       "      <th>1</th>\n",
       "      <th>2</th>\n",
       "      <th>3</th>\n",
       "    </tr>\n",
       "  </thead>\n",
       "  <tbody>\n",
       "    <tr>\n",
       "      <th>0</th>\n",
       "      <td>tails</td>\n",
       "      <td>tails</td>\n",
       "      <td>tails</td>\n",
       "      <td>heads</td>\n",
       "    </tr>\n",
       "    <tr>\n",
       "      <th>1</th>\n",
       "      <td>heads</td>\n",
       "      <td>heads</td>\n",
       "      <td>heads</td>\n",
       "      <td>heads</td>\n",
       "    </tr>\n",
       "  </tbody>\n",
       "</table>\n",
       "</div>"
      ],
      "text/plain": [
       "       0      1      2      3\n",
       "0  tails  tails  tails  heads\n",
       "1  heads  heads  heads  heads"
      ]
     },
     "execution_count": 80,
     "metadata": {},
     "output_type": "execute_result"
    }
   ],
   "source": [
    "#current: columns rep roll #, rows rep each die\n",
    "testingGame = Game(dicelist)\n",
    "testingGame.play_game(4)\n",
    "testingGame.show_results()"
   ]
  },
  {
   "cell_type": "code",
   "execution_count": 8,
   "id": "c1559686-79ab-4ed4-8a76-eaab49543fd2",
   "metadata": {
    "tags": []
   },
   "outputs": [],
   "source": [
    "class Analyzer():\n",
    "    '''docstring'''\n",
    "    \n",
    "    def __init():\n",
    "        pass"
   ]
  },
  {
   "cell_type": "code",
   "execution_count": 61,
   "id": "78edb5d4-94ef-4021-b961-4ee7151388d4",
   "metadata": {
    "tags": []
   },
   "outputs": [],
   "source": [
    "#one_list = sum(results_list)\n",
    "#results.append(results_list)"
   ]
  },
  {
   "cell_type": "code",
   "execution_count": null,
   "id": "3dd49ed9-dc5a-47d9-bf34-29eb3e653085",
   "metadata": {},
   "outputs": [],
   "source": []
  }
 ],
 "metadata": {
  "kernelspec": {
   "display_name": "Python 3 (ipykernel)",
   "language": "python",
   "name": "python3"
  },
  "language_info": {
   "codemirror_mode": {
    "name": "ipython",
    "version": 3
   },
   "file_extension": ".py",
   "mimetype": "text/x-python",
   "name": "python",
   "nbconvert_exporter": "python",
   "pygments_lexer": "ipython3",
   "version": "3.11.4"
  }
 },
 "nbformat": 4,
 "nbformat_minor": 5
}
